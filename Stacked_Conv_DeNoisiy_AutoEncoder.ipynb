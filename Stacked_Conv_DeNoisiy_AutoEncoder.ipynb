{
  "nbformat": 4,
  "nbformat_minor": 0,
  "metadata": {
    "colab": {
      "provenance": [],
      "authorship_tag": "ABX9TyNeVfhCEkGA3IpD9p/4oJE+",
      "include_colab_link": true
    },
    "kernelspec": {
      "name": "python3",
      "display_name": "Python 3"
    },
    "language_info": {
      "name": "python"
    },
    "accelerator": "GPU",
    "gpuClass": "standard"
  },
  "cells": [
    {
      "cell_type": "markdown",
      "metadata": {
        "id": "view-in-github",
        "colab_type": "text"
      },
      "source": [
        "<a href=\"https://colab.research.google.com/github/PoojanSheth29/CNBST/blob/main/Stacked_Conv_DeNoisiy_AutoEncoder.ipynb\" target=\"_parent\"><img src=\"https://colab.research.google.com/assets/colab-badge.svg\" alt=\"Open In Colab\"/></a>"
      ]
    },
    {
      "cell_type": "code",
      "execution_count": null,
      "metadata": {
        "id": "N6ca63isOSUg"
      },
      "outputs": [],
      "source": [
        "from tensorflow import keras\n"
      ]
    },
    {
      "cell_type": "code",
      "source": [
        "(x_train, _),(x_test, _) = keras.datasets.mnist.load_data()"
      ],
      "metadata": {
        "id": "B7HKgVgIOV7y"
      },
      "execution_count": null,
      "outputs": []
    },
    {
      "cell_type": "code",
      "source": [
        "x_tain = x_train/255\n",
        "x_test = x_test/255"
      ],
      "metadata": {
        "id": "iJeI2ieSOfB6"
      },
      "execution_count": null,
      "outputs": []
    },
    {
      "cell_type": "markdown",
      "source": [
        "# **Stacked Encoder :**\n",
        "1st Encoder and 2nd decoder and then stack it\n",
        "\n",
        "\n",
        "Image -> 100 -> 30 -> 100 -> Image -> Reshape"
      ],
      "metadata": {
        "id": "VWteN4jSOnDn"
      }
    },
    {
      "cell_type": "code",
      "source": [
        "encoder = keras.models.Sequential([\n",
        "    keras.layers.Flatten(input_shape=[28,28]),\n",
        "    keras.layers.Dense(100,activation='relu'),\n",
        "    keras.layers.Dense(30,activation='relu'),\n",
        "])"
      ],
      "metadata": {
        "id": "2q1uys75OukM"
      },
      "execution_count": null,
      "outputs": []
    },
    {
      "cell_type": "markdown",
      "source": [
        "The decoder is the same but in the opposite order. Note that keras needs to know the input shape at this point. The input shape of the decoder is the shape of z, also called as zDim"
      ],
      "metadata": {
        "id": "wFZ7s-MYPcCa"
      }
    },
    {
      "cell_type": "code",
      "source": [
        "decoder = keras.models.Sequential([\n",
        "    keras.layers.Dense(100,activation='relu',input_shape=[30]),\n",
        "    keras.layers.Dense(28*28,activation='sigmoid'),\n",
        "    keras.layers.Reshape([28,28]) \n",
        "])"
      ],
      "metadata": {
        "id": "Hp1xHtCbPWRv"
      },
      "execution_count": null,
      "outputs": []
    },
    {
      "cell_type": "code",
      "source": [
        "# stack them for training\n",
        "\n",
        "stacked_autoencoder = keras.models.Sequential([encoder,decoder])\n"
      ],
      "metadata": {
        "id": "4aw9W-gCQ9ad"
      },
      "execution_count": null,
      "outputs": []
    },
    {
      "cell_type": "code",
      "source": [
        "stacked_autoencoder.compile(loss='binary_crossentropy',metrics='accuracy',optimizer='adam')"
      ],
      "metadata": {
        "id": "qeVO8kwXREyG"
      },
      "execution_count": null,
      "outputs": []
    },
    {
      "cell_type": "code",
      "source": [
        "history = stacked_autoencoder.fit(x_train,x_train,epochs=10,validation_data=[x_test,x_test])"
      ],
      "metadata": {
        "colab": {
          "base_uri": "https://localhost:8080/"
        },
        "id": "cQRs7BZzRan0",
        "outputId": "ba40fab8-a028-412f-f528-0a60176bbbe0"
      },
      "execution_count": null,
      "outputs": [
        {
          "output_type": "stream",
          "name": "stdout",
          "text": [
            "Epoch 1/10\n",
            "1875/1875 [==============================] - 6s 3ms/step - loss: -493.2743 - accuracy: 0.1761 - val_loss: -500.8810 - val_accuracy: 0.1576\n",
            "Epoch 2/10\n",
            "1875/1875 [==============================] - 7s 4ms/step - loss: -493.0233 - accuracy: 0.1655 - val_loss: -500.7693 - val_accuracy: 0.1750\n",
            "Epoch 3/10\n",
            "1875/1875 [==============================] - 6s 3ms/step - loss: -492.8650 - accuracy: 0.1744 - val_loss: -497.7415 - val_accuracy: 0.1814\n",
            "Epoch 4/10\n",
            "1875/1875 [==============================] - 6s 3ms/step - loss: -489.8671 - accuracy: 0.1685 - val_loss: -497.7050 - val_accuracy: 0.1777\n",
            "Epoch 5/10\n",
            "1875/1875 [==============================] - 7s 4ms/step - loss: -489.9997 - accuracy: 0.1703 - val_loss: -497.2563 - val_accuracy: 0.1634\n",
            "Epoch 6/10\n",
            "1875/1875 [==============================] - 6s 3ms/step - loss: -489.6667 - accuracy: 0.1612 - val_loss: -497.2533 - val_accuracy: 0.1748\n",
            "Epoch 7/10\n",
            "1875/1875 [==============================] - 6s 3ms/step - loss: -489.6410 - accuracy: 0.1562 - val_loss: -497.0219 - val_accuracy: 0.1547\n",
            "Epoch 8/10\n",
            "1875/1875 [==============================] - 6s 3ms/step - loss: -489.1072 - accuracy: 0.1509 - val_loss: -495.1753 - val_accuracy: 0.1453\n",
            "Epoch 9/10\n",
            "1875/1875 [==============================] - 6s 3ms/step - loss: -486.9262 - accuracy: 0.1600 - val_loss: -494.8199 - val_accuracy: 0.1594\n",
            "Epoch 10/10\n",
            "1875/1875 [==============================] - 7s 4ms/step - loss: -487.4851 - accuracy: 0.1591 - val_loss: -496.5404 - val_accuracy: 0.1394\n"
          ]
        }
      ]
    },
    {
      "cell_type": "code",
      "source": [
        "\n",
        "%pylab inline"
      ],
      "metadata": {
        "id": "yKL7JeN_l2a5",
        "outputId": "2a81c0d6-954a-4192-8ae2-7b97060272b3",
        "colab": {
          "base_uri": "https://localhost:8080/"
        }
      },
      "execution_count": null,
      "outputs": [
        {
          "output_type": "stream",
          "name": "stdout",
          "text": [
            "Populating the interactive namespace from numpy and matplotlib\n"
          ]
        }
      ]
    },
    {
      "cell_type": "code",
      "source": [
        "figsize(20,5)\n",
        "for i in range(8):\n",
        "  subplot(2,8,i+1)\n",
        "  pred = stacked_autoencoder.predict(x_test[i].reshape((1,28,28)))\n",
        "  imshow(x_test[i],cmap='binary')\n",
        "\n",
        "  subplot(2,8,i+8+1)\n",
        "  imshow(pred.reshape((28,28)),cmap='binary')"
      ],
      "metadata": {
        "id": "v3U9nX9fSJva",
        "colab": {
          "base_uri": "https://localhost:8080/",
          "height": 374
        },
        "outputId": "96589d0f-1d00-4570-cea0-64d3f71fb49a"
      },
      "execution_count": null,
      "outputs": [
        {
          "output_type": "stream",
          "name": "stdout",
          "text": [
            "1/1 [==============================] - 0s 16ms/step\n",
            "1/1 [==============================] - 0s 16ms/step\n",
            "1/1 [==============================] - 0s 18ms/step\n",
            "1/1 [==============================] - 0s 18ms/step\n",
            "1/1 [==============================] - 0s 20ms/step\n",
            "1/1 [==============================] - 0s 16ms/step\n",
            "1/1 [==============================] - 0s 17ms/step\n",
            "1/1 [==============================] - 0s 25ms/step\n"
          ]
        },
        {
          "output_type": "display_data",
          "data": {
            "text/plain": [
              "<Figure size 1440x360 with 16 Axes>"
            ],
            "image/png": "[encoded data removed]"
          },
          "metadata": {
            "needs_background": "light"
          }
        }
      ]
    },
    {
      "cell_type": "code",
      "source": [
        "#Latent Encoder means je encoding thayu 6e ee kevu dekhaii\n",
        "i = 0\n",
        "figsize(10,5)\n",
        "subplot(1,3,1)\n",
        "imshow(x_test[i],cmap='binary')\n",
        "\n",
        "subplot(1,3,2)\n",
        "latent_vector = encoder.predict(x_test[i].reshape((1,28,28)))\n",
        "imshow(latent_vector,cmap='binary')\n",
        "\n",
        "\n",
        "subplot(1,3,3)\n",
        "predi = decoder.predict(latent_vector)\n",
        "imshow(predi.reshape(28,28),cmap='binary')"
      ],
      "metadata": {
        "colab": {
          "base_uri": "https://localhost:8080/",
          "height": 265
        },
        "id": "T1lQxconVsOV",
        "outputId": "ffc02e94-8741-43dc-d901-5db55f8d1adf"
      },
      "execution_count": null,
      "outputs": [
        {
          "output_type": "stream",
          "name": "stdout",
          "text": [
            "1/1 [==============================] - 0s 50ms/step\n",
            "1/1 [==============================] - 0s 54ms/step\n"
          ]
        },
        {
          "output_type": "execute_result",
          "data": {
            "text/plain": [
              "<matplotlib.image.AxesImage at 0x7f171a233e50>"
            ]
          },
          "metadata": {},
          "execution_count": 27
        },
        {
          "output_type": "display_data",
          "data": {
            "text/plain": [
              "<Figure size 720x360 with 3 Axes>"
            ],
            "image/png": "[encoded data removed]"
          },
          "metadata": {
            "needs_background": "light"
          }
        }
      ]
    },
    {
      "cell_type": "markdown",
      "source": [
        "# **Convolution AutoEncoder**"
      ],
      "metadata": {
        "id": "5o4mYvEAYjxo"
      }
    },
    {
      "cell_type": "code",
      "source": [
        "encoder = keras.models.Sequential([\n",
        "    keras.layers.Reshape([28,28,1],input_shape=[28,28]),\n",
        "    keras.layers.Conv2D(16,kernel_size=(3,3), padding='same',activation='relu'),\n",
        "    keras.layers.MaxPool2D(pool_size=2),\n",
        "    keras.layers.Conv2D(32,kernel_size=(3,3), padding='same',activation='relu'),\n",
        "    keras.layers.MaxPool2D(pool_size=2),\n",
        "    keras.layers.Conv2D(64,kernel_size=(3,3), padding='same',activation='relu'),\n",
        "    keras.layers.MaxPool2D(pool_size=2)\n",
        "])"
      ],
      "metadata": {
        "id": "b3xcYIhKYpXw"
      },
      "execution_count": null,
      "outputs": []
    },
    {
      "cell_type": "code",
      "source": [
        "## here we do deconvolution so we dont take input shape in decoder like stacked autoencoder here there is different\n",
        "\n",
        "encoder.predict(x_test[0].reshape(1,28,28)).shape\n",
        "\n",
        "'''1/1 [==============================] - 5s 5s/step\n",
        "(1, 3, 3, 64)'''\n",
        "# shape for decoder layer"
      ],
      "metadata": {
        "colab": {
          "base_uri": "https://localhost:8080/"
        },
        "id": "Z8mgsdOFZXJF",
        "outputId": "8b4657ed-0699-4588-e8b4-5a2813d42c9d"
      },
      "execution_count": null,
      "outputs": [
        {
          "output_type": "stream",
          "name": "stdout",
          "text": [
            "1/1 [==============================] - 5s 5s/step\n"
          ]
        },
        {
          "output_type": "execute_result",
          "data": {
            "text/plain": [
              "(1, 3, 3, 64)"
            ]
          },
          "metadata": {},
          "execution_count": 29
        }
      ]
    },
    {
      "cell_type": "code",
      "source": [
        "decoder = keras.models.Sequential([\n",
        "    keras.layers.Conv2DTranspose(32,kernel_size=(3,3), strides=2, padding='valid',activation='relu',input_shape=[3,3,64]),\n",
        "    keras.layers.Conv2DTranspose(16,kernel_size=(3,3), strides=2, padding='same',activation='relu'),\n",
        "    keras.layers.Conv2DTranspose(1,kernel_size=(3,3), strides=2, padding='same',activation='sigmoid'),\n",
        "    keras.layers.Reshape([28,28])\n",
        "])"
      ],
      "metadata": {
        "id": "BhOUGo-OZ593"
      },
      "execution_count": null,
      "outputs": []
    },
    {
      "cell_type": "code",
      "source": [
        "conv_autoencoder = keras.models.Sequential([encoder,decoder])"
      ],
      "metadata": {
        "id": "qIaq0NG-bL_t"
      },
      "execution_count": null,
      "outputs": []
    },
    {
      "cell_type": "code",
      "source": [
        "conv_autoencoder.compile(loss='binary_crossentropy',metrics='accuracy',optimizer='adam')"
      ],
      "metadata": {
        "id": "ZZkzpL7ZbSlW"
      },
      "execution_count": null,
      "outputs": []
    },
    {
      "cell_type": "code",
      "source": [
        "history = conv_autoencoder.fit(x_train,x_train,epochs=10,validation_data=(x_test,x_test))"
      ],
      "metadata": {
        "colab": {
          "base_uri": "https://localhost:8080/"
        },
        "id": "76k65af2bdEV",
        "outputId": "62c5cb9f-196a-48cb-be86-66ee9be909ad"
      },
      "execution_count": null,
      "outputs": [
        {
          "output_type": "stream",
          "name": "stdout",
          "text": [
            "Epoch 1/10\n",
            "1875/1875 [==============================] - 10s 5ms/step - loss: -499.0944 - accuracy: 0.0761 - val_loss: -510.5506 - val_accuracy: 0.1117\n",
            "Epoch 2/10\n",
            "1875/1875 [==============================] - 9s 5ms/step - loss: -503.5623 - accuracy: 0.1489 - val_loss: -510.9388 - val_accuracy: 0.1320\n",
            "Epoch 3/10\n",
            "1875/1875 [==============================] - 9s 5ms/step - loss: -503.8112 - accuracy: 0.1680 - val_loss: -511.0707 - val_accuracy: 0.1837\n",
            "Epoch 4/10\n",
            "1875/1875 [==============================] - 9s 5ms/step - loss: -503.9457 - accuracy: 0.1805 - val_loss: -511.2394 - val_accuracy: 0.1914\n",
            "Epoch 5/10\n",
            "1875/1875 [==============================] - 10s 5ms/step - loss: -504.0571 - accuracy: 0.1937 - val_loss: -511.3536 - val_accuracy: 0.2036\n",
            "Epoch 6/10\n",
            "1875/1875 [==============================] - 9s 5ms/step - loss: -504.1455 - accuracy: 0.2014 - val_loss: -511.3788 - val_accuracy: 0.2199\n",
            "Epoch 7/10\n",
            "1875/1875 [==============================] - 9s 5ms/step - loss: -504.2324 - accuracy: 0.2226 - val_loss: -511.4536 - val_accuracy: 0.2319\n",
            "Epoch 8/10\n",
            "1875/1875 [==============================] - 10s 5ms/step - loss: -504.2915 - accuracy: 0.2331 - val_loss: -511.5423 - val_accuracy: 0.2446\n",
            "Epoch 9/10\n",
            "1875/1875 [==============================] - 9s 5ms/step - loss: -504.3355 - accuracy: 0.2374 - val_loss: -511.5742 - val_accuracy: 0.2234\n",
            "Epoch 10/10\n",
            "1875/1875 [==============================] - 9s 5ms/step - loss: -504.3720 - accuracy: 0.2331 - val_loss: -511.5981 - val_accuracy: 0.2333\n"
          ]
        }
      ]
    },
    {
      "cell_type": "code",
      "source": [
        "\n",
        "%pylab inline"
      ],
      "metadata": {
        "colab": {
          "base_uri": "https://localhost:8080/"
        },
        "id": "LsF_A80clzMP",
        "outputId": "e583b131-d0f9-45c0-e930-00524570a9c1"
      },
      "execution_count": null,
      "outputs": [
        {
          "output_type": "stream",
          "name": "stdout",
          "text": [
            "Populating the interactive namespace from numpy and matplotlib\n"
          ]
        }
      ]
    },
    {
      "cell_type": "code",
      "source": [
        "figsize(20,5)\n",
        "for i in range(8):\n",
        "  subplot(2,8,i+1)\n",
        "  pred = conv_autoencoder.predict(x_test[i].reshape((1,28,28)))\n",
        "  imshow(x_test[i],cmap='binary')\n",
        "\n",
        "  subplot(2,8,i+8+1)\n",
        "  imshow(pred.reshape((28,28)),cmap='binary')"
      ],
      "metadata": {
        "colab": {
          "base_uri": "https://localhost:8080/",
          "height": 393
        },
        "id": "klN4uptKcSZ_",
        "outputId": "7c5ff949-8fec-40b3-ab2e-8f87042830ed"
      },
      "execution_count": null,
      "outputs": [
        {
          "output_type": "error",
          "ename": "NameError",
          "evalue": "ignored",
          "traceback": [
            "\u001b[0;31m---------------------------------------------------------------------------\u001b[0m",
            "\u001b[0;31mNameError\u001b[0m                                 Traceback (most recent call last)",
            "\u001b[0;32m<ipython-input-33-f6ae637c74af>\u001b[0m in \u001b[0;36m<module>\u001b[0;34m\u001b[0m\n\u001b[1;32m      2\u001b[0m \u001b[0;32mfor\u001b[0m \u001b[0mi\u001b[0m \u001b[0;32min\u001b[0m \u001b[0mrange\u001b[0m\u001b[0;34m(\u001b[0m\u001b[0;36m8\u001b[0m\u001b[0;34m)\u001b[0m\u001b[0;34m:\u001b[0m\u001b[0;34m\u001b[0m\u001b[0;34m\u001b[0m\u001b[0m\n\u001b[1;32m      3\u001b[0m   \u001b[0msubplot\u001b[0m\u001b[0;34m(\u001b[0m\u001b[0;36m2\u001b[0m\u001b[0;34m,\u001b[0m\u001b[0;36m8\u001b[0m\u001b[0;34m,\u001b[0m\u001b[0mi\u001b[0m\u001b[0;34m+\u001b[0m\u001b[0;36m1\u001b[0m\u001b[0;34m)\u001b[0m\u001b[0;34m\u001b[0m\u001b[0;34m\u001b[0m\u001b[0m\n\u001b[0;32m----> 4\u001b[0;31m   \u001b[0mpred\u001b[0m \u001b[0;34m=\u001b[0m \u001b[0mconv_autoencoder\u001b[0m\u001b[0;34m.\u001b[0m\u001b[0mpredict\u001b[0m\u001b[0;34m(\u001b[0m\u001b[0mx_test\u001b[0m\u001b[0;34m[\u001b[0m\u001b[0mi\u001b[0m\u001b[0;34m]\u001b[0m\u001b[0;34m.\u001b[0m\u001b[0mreshape\u001b[0m\u001b[0;34m(\u001b[0m\u001b[0;34m(\u001b[0m\u001b[0;36m1\u001b[0m\u001b[0;34m,\u001b[0m\u001b[0;36m28\u001b[0m\u001b[0;34m,\u001b[0m\u001b[0;36m28\u001b[0m\u001b[0;34m)\u001b[0m\u001b[0;34m)\u001b[0m\u001b[0;34m)\u001b[0m\u001b[0;34m\u001b[0m\u001b[0;34m\u001b[0m\u001b[0m\n\u001b[0m\u001b[1;32m      5\u001b[0m   \u001b[0mimshow\u001b[0m\u001b[0;34m(\u001b[0m\u001b[0mx_test\u001b[0m\u001b[0;34m[\u001b[0m\u001b[0mi\u001b[0m\u001b[0;34m]\u001b[0m\u001b[0;34m,\u001b[0m\u001b[0mcmap\u001b[0m\u001b[0;34m=\u001b[0m\u001b[0;34m'binary'\u001b[0m\u001b[0;34m)\u001b[0m\u001b[0;34m\u001b[0m\u001b[0;34m\u001b[0m\u001b[0m\n\u001b[1;32m      6\u001b[0m \u001b[0;34m\u001b[0m\u001b[0m\n",
            "\u001b[0;31mNameError\u001b[0m: name 'conv_autoencoder' is not defined"
          ]
        },
        {
          "output_type": "display_data",
          "data": {
            "text/plain": [
              "<Figure size 1440x360 with 1 Axes>"
            ],
            "image/png": "[encoded data removed]"
          },
          "metadata": {
            "needs_background": "light"
          }
        }
      ]
    },
    {
      "cell_type": "markdown",
      "source": [
        "Highly close to original image\n",
        "ConvolutionAutoEncoder is better than StackAutoEncoder"
      ],
      "metadata": {
        "id": "AESor50xcrO5"
      }
    },
    {
      "cell_type": "markdown",
      "source": [
        "# **Denoising AutoEncoders**"
      ],
      "metadata": {
        "id": "1w9WeUtEfqST"
      }
    },
    {
      "cell_type": "code",
      "source": [
        "import numpy as np\n",
        "\n",
        "figsize(5,10)\n",
        "subplot(1,2,1)\n",
        "imshow(x_test[0],cmap='binary')\n",
        "\n",
        "subplot(1,2,2)\n",
        "noise = np.random.random((28,28))/4 ## noise added\n",
        "imshow(x_test[0]+ noise,cmap='binary')"
      ],
      "metadata": {
        "colab": {
          "base_uri": "https://localhost:8080/",
          "height": 193
        },
        "id": "uEr0sLnlfxTv",
        "outputId": "e6261414-0930-48e7-a11e-22f04873fa65"
      },
      "execution_count": null,
      "outputs": [
        {
          "output_type": "execute_result",
          "data": {
            "text/plain": [
              "<matplotlib.image.AxesImage at 0x7ffa511bfa30>"
            ]
          },
          "metadata": {},
          "execution_count": 7
        },
        {
          "output_type": "display_data",
          "data": {
            "text/plain": [
              "<Figure size 360x720 with 2 Axes>"
            ],
            "image/png": "[encoded data removed]"
          },
          "metadata": {
            "needs_background": "light"
          }
        }
      ]
    },
    {
      "cell_type": "code",
      "source": [
        "#for removing noise also we need to make encoders and decoders\n",
        "# in denoising not necessary to decrease size at every encoders so badha ma karvuj necessary nahi. \n",
        "#ek bottleneck hovu joiiye bus like ahiya 30 6e\n",
        "\n",
        "encoder = keras.models.Sequential([\n",
        "    keras.layers.Flatten(input_shape=[28,28]),\n",
        "    keras.layers.Dense(100,activation='relu'),\n",
        "    keras.layers.Dense(100,activation='relu'),\n",
        "    keras.layers.Dense(30,activation='relu'),\n",
        "    \n",
        "])"
      ],
      "metadata": {
        "id": "8OQl12jpgfT2"
      },
      "execution_count": null,
      "outputs": []
    },
    {
      "cell_type": "code",
      "source": [
        "decoder = keras.models.Sequential([\n",
        "    keras.layers.Dense(100,activation='relu',input_shape=[30]),\n",
        "    keras.layers.Dense(100,activation='relu'),\n",
        "    keras.layers.Dense(28*28,activation='sigmoid'),\n",
        "    keras.layers.Reshape([28,28]),\n",
        "    \n",
        "])"
      ],
      "metadata": {
        "id": "tzLRQgPDhcPU"
      },
      "execution_count": null,
      "outputs": []
    },
    {
      "cell_type": "code",
      "source": [
        "denoising_auto = keras.models.Sequential([encoder,decoder])"
      ],
      "metadata": {
        "id": "l5Ww7hgSh0ZL"
      },
      "execution_count": null,
      "outputs": []
    },
    {
      "cell_type": "code",
      "source": [
        "denoising_auto.compile(loss='binary_crossentropy',optimizer='adam')"
      ],
      "metadata": {
        "id": "q0Gx0iXgiBTM"
      },
      "execution_count": null,
      "outputs": []
    },
    {
      "cell_type": "code",
      "source": [
        "# noise add karilu training and testing set\n",
        "\n",
        "x_train_noise = x_train + (np.random.random((x_train.shape))/4)\n",
        "x_test_noise = x_test + (np.random.random((x_test.shape))/4)\n"
      ],
      "metadata": {
        "id": "TWKrxCB0iOsR"
      },
      "execution_count": null,
      "outputs": []
    },
    {
      "cell_type": "code",
      "source": [
        "imshow(x_train_noise[0],cmap='binary')"
      ],
      "metadata": {
        "colab": {
          "base_uri": "https://localhost:8080/",
          "height": 344
        },
        "id": "XxxW5eOZisbP",
        "outputId": "a8f2a4d6-ab5f-49ea-f980-763c800bb30f"
      },
      "execution_count": null,
      "outputs": [
        {
          "output_type": "execute_result",
          "data": {
            "text/plain": [
              "<matplotlib.image.AxesImage at 0x7ffa582465b0>"
            ]
          },
          "metadata": {},
          "execution_count": 16
        },
        {
          "output_type": "display_data",
          "data": {
            "text/plain": [
              "<Figure size 360x720 with 1 Axes>"
            ],
            "image/png": "[encoded data removed]"
          },
          "metadata": {
            "needs_background": "light"
          }
        }
      ]
    },
    {
      "cell_type": "code",
      "source": [
        "hisotry = denoising_auto.fit(x_train_noise,x_train,epochs=10,validation_data=[x_test_noise,x_test])   #so model.fit(train&noise,train)\n"
      ],
      "metadata": {
        "colab": {
          "base_uri": "https://localhost:8080/"
        },
        "id": "CbgOkNjLi7Ae",
        "outputId": "1ff53538-d9d3-45c7-98ee-aaa564df1b31"
      },
      "execution_count": null,
      "outputs": [
        {
          "output_type": "stream",
          "name": "stdout",
          "text": [
            "Epoch 1/10\n",
            "1875/1875 [==============================] - 6s 3ms/step - loss: -457.6999 - val_loss: 1.1883\n",
            "Epoch 2/10\n",
            "1875/1875 [==============================] - 5s 3ms/step - loss: -459.1171 - val_loss: 1.1878\n",
            "Epoch 3/10\n",
            "1875/1875 [==============================] - 5s 3ms/step - loss: -459.0245 - val_loss: 1.2015\n",
            "Epoch 4/10\n",
            "1875/1875 [==============================] - 5s 3ms/step - loss: -459.0227 - val_loss: 1.2015\n",
            "Epoch 5/10\n",
            "1875/1875 [==============================] - 5s 3ms/step - loss: -459.0227 - val_loss: 1.2014\n",
            "Epoch 6/10\n",
            "1875/1875 [==============================] - 5s 3ms/step - loss: -459.0229 - val_loss: 1.2014\n",
            "Epoch 7/10\n",
            "1875/1875 [==============================] - 5s 3ms/step - loss: -459.0224 - val_loss: 1.2013\n",
            "Epoch 8/10\n",
            "1875/1875 [==============================] - 5s 3ms/step - loss: -459.0226 - val_loss: 1.2012\n",
            "Epoch 9/10\n",
            "1875/1875 [==============================] - 5s 3ms/step - loss: -459.0222 - val_loss: 1.2012\n",
            "Epoch 10/10\n",
            "1875/1875 [==============================] - 5s 3ms/step - loss: -459.0223 - val_loss: 1.2011\n"
          ]
        }
      ]
    },
    {
      "cell_type": "code",
      "source": [
        "figsize(20,5)\n",
        "for i in range(8):\n",
        "  subplot(2,8,i+1)\n",
        "  imshow(x_test_noise[i],cmap='binary')\n",
        "\n",
        "  subplot(2,8,i+8+1)\n",
        "  pred = denoising_auto.predict(x_test_noise[i].reshape((1,28,28)))\n",
        "  imshow(pred.reshape((28,28)),cmap='binary')"
      ],
      "metadata": {
        "colab": {
          "base_uri": "https://localhost:8080/",
          "height": 374
        },
        "id": "n_Nm6WqajkEo",
        "outputId": "98f1310e-e4ee-4e34-a385-7e07dcdd6d8c"
      },
      "execution_count": null,
      "outputs": [
        {
          "output_type": "stream",
          "name": "stdout",
          "text": [
            "1/1 [==============================] - 0s 72ms/step\n",
            "1/1 [==============================] - 0s 15ms/step\n",
            "1/1 [==============================] - 0s 13ms/step\n",
            "1/1 [==============================] - 0s 13ms/step\n",
            "1/1 [==============================] - 0s 15ms/step\n",
            "1/1 [==============================] - 0s 15ms/step\n",
            "1/1 [==============================] - 0s 16ms/step\n",
            "1/1 [==============================] - 0s 15ms/step\n"
          ]
        },
        {
          "output_type": "display_data",
          "data": {
            "text/plain": [
              "<Figure size 1440x360 with 16 Axes>"
            ],
            "image/png": "[encoded data removed]"
          },
          "metadata": {
            "needs_background": "light"
          }
        }
      ]
    }
  ]
}